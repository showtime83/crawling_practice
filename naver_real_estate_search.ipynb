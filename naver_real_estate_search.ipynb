{
 "cells": [
  {
   "cell_type": "code",
   "execution_count": 2,
   "id": "8ad37f5c",
   "metadata": {},
   "outputs": [],
   "source": [
    "from selenium import webdriver\n",
    "from selenium.webdriver.support.ui import Select\n",
    "from selenium.webdriver.support.ui import WebDriverWait\n",
    "from selenium.webdriver.support import expected_conditions as EC\n",
    "from selenium.webdriver.common.by import By\n",
    "from time import sleep\n",
    "from bs4 import BeautifulSoup\n",
    "import pandas as pd\n",
    "import uuid\n",
    "from tqdm import tqdm\n",
    "import requests\n",
    "from copy import copy"
   ]
  },
  {
   "cell_type": "code",
   "execution_count": 7,
   "id": "fbe0ebfa",
   "metadata": {},
   "outputs": [],
   "source": [
    "class naver_real_estate_news_search :\n",
    "    \n",
    "    def __init__(self) :\n",
    "        \n",
    "        self.driver = webdriver.Chrome(\"C:/Users/dlrkd/OneDrive/Desktop/연습/크롤링/chromedriver_win32/chromedriver\")\n",
    "        self.url = \"http://www.naver.com\"\n",
    "        self.driver.get(self.url)\n",
    "        self.df_final = pd.DataFrame()\n",
    "\n",
    "        \n",
    "    def get_news_page(self) :\n",
    "        \n",
    "        search_word = \"부동산\"\n",
    "        search_bar = WebDriverWait(self.driver, 0.3).until(EC.presence_of_element_located((By.CLASS_NAME, \"input_text\")))\n",
    "        sleep(0.1)\n",
    "        input_word = search_bar.send_keys(search_word)\n",
    "        \n",
    "        button = WebDriverWait(self.driver, 0.3).until(EC.presence_of_element_located((By.CLASS_NAME, \"btn_submit\")))\n",
    "        button.click()\n",
    "        \n",
    "        news_button = {}\n",
    "        button_bar = WebDriverWait(self.driver, 0.3).until(EC.presence_of_element_located((By.CLASS_NAME, \"base\"))).find_elements_by_class_name(\"menu\")\n",
    "        for button in button_bar :\n",
    "            button_name = button.text\n",
    "            button_href = button.find_element_by_class_name(\"tab\")\n",
    "            news_button[button_name] = button_href\n",
    "            \n",
    "        for text in news_button.keys() :\n",
    "            if text == \"뉴스\" :\n",
    "                news_button[text].click()\n",
    "                \n",
    "    def get_news_data(self) :\n",
    "              \n",
    "        news_area = WebDriverWait(self.driver, 0.3).until(EC.presence_of_element_located((By.CLASS_NAME, \"list_news\")))\n",
    "        news_area_html = news_area.get_attribute(\"innerHTML\")\n",
    "        news_area_bs = BeautifulSoup(news_area_html, \"html.parser\")\n",
    "        \n",
    "        news_data = {}\n",
    "        for news in news_area_bs.find_all(\"li\", {\"class\" : \"bx\"}) :\n",
    "            page = news.find(\"div\", {\"class\" : \"news_area\"}).find(\"a\", {\"class\" : \"news_tit\"})\n",
    "            title = page.get(\"title\").strip()\n",
    "            href = page.get(\"href\")\n",
    "            news_data[title] = href\n",
    "            \n",
    "        news = pd.DataFrame(news_data, index= [\"\"])\n",
    "    \n",
    "        return news\n",
    "    \n",
    "    def go_to_next_page(self, start_page, last_page) :\n",
    "        search = self.get_news_page()\n",
    "        \n",
    "        current_pg = start_page\n",
    "        last_pg = last_page\n",
    "        start = ((int(current_pg)-1)*10)+1\n",
    "        last = ((int(last_pg)-1)*10)+1\n",
    "        \n",
    "        while start <= last :\n",
    "            url = f\"https://search.naver.com/search.naver?where=news&sm=tab_pge&query=%EB%B6%80%EB%8F%99%EC%82%B0&sort=0&photo=0&field=0&pd=0&ds=&de=&cluster_rank=19&mynews=0&office_type=0&office_section_code=0&news_office_checked=&nso=so:r,p:all,a:all&start=\"+str(start)\n",
    "            res = requests.get(url)\n",
    "            page_bs = BeautifulSoup(res.content, \"html.parser\")\n",
    "            news_list = page_bs.find(\"div\", {\"class\" : \"group_news\"}).find_all(\"li\", {\"class\" : \"bx\"})\n",
    "            \n",
    "            data = {}\n",
    "            for news in news_list :\n",
    "                page = news.find(\"div\", {\"class\" : \"news_area\"}).find(\"a\", {\"class\" : \"news_tit\"})\n",
    "                title = page.get(\"title\").strip()\n",
    "                href = page.get(\"href\")\n",
    "                data[title] = href\n",
    "            \n",
    "            data_frame = pd.DataFrame(data.items())\n",
    "            self.df_final = self.df_final.append(data_frame)\n",
    "            \n",
    "            start += 10"
   ]
  },
  {
   "cell_type": "code",
   "execution_count": 8,
   "id": "dc825404",
   "metadata": {},
   "outputs": [
    {
     "name": "stderr",
     "output_type": "stream",
     "text": [
      "C:\\Users\\dlrkd\\AppData\\Local\\Temp\\ipykernel_10928\\2835966767.py:5: DeprecationWarning: executable_path has been deprecated, please pass in a Service object\n",
      "  self.driver = webdriver.Chrome(\"C:/Users/dlrkd/OneDrive/Desktop/연습/크롤링/chromedriver_win32/chromedriver\")\n"
     ]
    }
   ],
   "source": [
    "crawler = naver_real_estate_news_search()"
   ]
  },
  {
   "cell_type": "code",
   "execution_count": 9,
   "id": "d8805276",
   "metadata": {},
   "outputs": [
    {
     "ename": "AttributeError",
     "evalue": "'WebElement' object has no attribute 'find_elements_by_class_name'",
     "output_type": "error",
     "traceback": [
      "\u001b[1;31m---------------------------------------------------------------------------\u001b[0m",
      "\u001b[1;31mAttributeError\u001b[0m                            Traceback (most recent call last)",
      "\u001b[1;32m~\\AppData\\Local\\Temp\\ipykernel_10928\\2778433954.py\u001b[0m in \u001b[0;36m<module>\u001b[1;34m\u001b[0m\n\u001b[1;32m----> 1\u001b[1;33m \u001b[0mcrawler\u001b[0m\u001b[1;33m.\u001b[0m\u001b[0mgo_to_next_page\u001b[0m\u001b[1;33m(\u001b[0m\u001b[1;36m2\u001b[0m\u001b[1;33m,\u001b[0m\u001b[1;36m5\u001b[0m\u001b[1;33m)\u001b[0m\u001b[1;33m\u001b[0m\u001b[1;33m\u001b[0m\u001b[0m\n\u001b[0m",
      "\u001b[1;32m~\\AppData\\Local\\Temp\\ipykernel_10928\\2835966767.py\u001b[0m in \u001b[0;36mgo_to_next_page\u001b[1;34m(self, start_page, last_page)\u001b[0m\n\u001b[0;32m     48\u001b[0m \u001b[1;33m\u001b[0m\u001b[0m\n\u001b[0;32m     49\u001b[0m     \u001b[1;32mdef\u001b[0m \u001b[0mgo_to_next_page\u001b[0m\u001b[1;33m(\u001b[0m\u001b[0mself\u001b[0m\u001b[1;33m,\u001b[0m \u001b[0mstart_page\u001b[0m\u001b[1;33m,\u001b[0m \u001b[0mlast_page\u001b[0m\u001b[1;33m)\u001b[0m \u001b[1;33m:\u001b[0m\u001b[1;33m\u001b[0m\u001b[1;33m\u001b[0m\u001b[0m\n\u001b[1;32m---> 50\u001b[1;33m         \u001b[0msearch\u001b[0m \u001b[1;33m=\u001b[0m \u001b[0mself\u001b[0m\u001b[1;33m.\u001b[0m\u001b[0mget_news_page\u001b[0m\u001b[1;33m(\u001b[0m\u001b[1;33m)\u001b[0m\u001b[1;33m\u001b[0m\u001b[1;33m\u001b[0m\u001b[0m\n\u001b[0m\u001b[0;32m     51\u001b[0m \u001b[1;33m\u001b[0m\u001b[0m\n\u001b[0;32m     52\u001b[0m         \u001b[0mcurrent_pg\u001b[0m \u001b[1;33m=\u001b[0m \u001b[0mstart_page\u001b[0m\u001b[1;33m\u001b[0m\u001b[1;33m\u001b[0m\u001b[0m\n",
      "\u001b[1;32m~\\AppData\\Local\\Temp\\ipykernel_10928\\2835966767.py\u001b[0m in \u001b[0;36mget_news_page\u001b[1;34m(self)\u001b[0m\n\u001b[0;32m     20\u001b[0m \u001b[1;33m\u001b[0m\u001b[0m\n\u001b[0;32m     21\u001b[0m         \u001b[0mnews_button\u001b[0m \u001b[1;33m=\u001b[0m \u001b[1;33m{\u001b[0m\u001b[1;33m}\u001b[0m\u001b[1;33m\u001b[0m\u001b[1;33m\u001b[0m\u001b[0m\n\u001b[1;32m---> 22\u001b[1;33m         \u001b[0mbutton_bar\u001b[0m \u001b[1;33m=\u001b[0m \u001b[0mWebDriverWait\u001b[0m\u001b[1;33m(\u001b[0m\u001b[0mself\u001b[0m\u001b[1;33m.\u001b[0m\u001b[0mdriver\u001b[0m\u001b[1;33m,\u001b[0m \u001b[1;36m0.3\u001b[0m\u001b[1;33m)\u001b[0m\u001b[1;33m.\u001b[0m\u001b[0muntil\u001b[0m\u001b[1;33m(\u001b[0m\u001b[0mEC\u001b[0m\u001b[1;33m.\u001b[0m\u001b[0mpresence_of_element_located\u001b[0m\u001b[1;33m(\u001b[0m\u001b[1;33m(\u001b[0m\u001b[0mBy\u001b[0m\u001b[1;33m.\u001b[0m\u001b[0mCLASS_NAME\u001b[0m\u001b[1;33m,\u001b[0m \u001b[1;34m\"base\"\u001b[0m\u001b[1;33m)\u001b[0m\u001b[1;33m)\u001b[0m\u001b[1;33m)\u001b[0m\u001b[1;33m.\u001b[0m\u001b[0mfind_elements_by_class_name\u001b[0m\u001b[1;33m(\u001b[0m\u001b[1;34m\"menu\"\u001b[0m\u001b[1;33m)\u001b[0m\u001b[1;33m\u001b[0m\u001b[1;33m\u001b[0m\u001b[0m\n\u001b[0m\u001b[0;32m     23\u001b[0m         \u001b[1;32mfor\u001b[0m \u001b[0mbutton\u001b[0m \u001b[1;32min\u001b[0m \u001b[0mbutton_bar\u001b[0m \u001b[1;33m:\u001b[0m\u001b[1;33m\u001b[0m\u001b[1;33m\u001b[0m\u001b[0m\n\u001b[0;32m     24\u001b[0m             \u001b[0mbutton_name\u001b[0m \u001b[1;33m=\u001b[0m \u001b[0mbutton\u001b[0m\u001b[1;33m.\u001b[0m\u001b[0mtext\u001b[0m\u001b[1;33m\u001b[0m\u001b[1;33m\u001b[0m\u001b[0m\n",
      "\u001b[1;31mAttributeError\u001b[0m: 'WebElement' object has no attribute 'find_elements_by_class_name'"
     ]
    }
   ],
   "source": [
    "crawler.go_to_next_page(2,5)"
   ]
  },
  {
   "cell_type": "code",
   "execution_count": null,
   "id": "4d44b70a",
   "metadata": {},
   "outputs": [],
   "source": [
    "crawler.df_final"
   ]
  },
  {
   "cell_type": "code",
   "execution_count": null,
   "id": "b72a1317",
   "metadata": {},
   "outputs": [],
   "source": []
  }
 ],
 "metadata": {
  "kernelspec": {
   "display_name": "Python 3 (ipykernel)",
   "language": "python",
   "name": "python3"
  },
  "language_info": {
   "codemirror_mode": {
    "name": "ipython",
    "version": 3
   },
   "file_extension": ".py",
   "mimetype": "text/x-python",
   "name": "python",
   "nbconvert_exporter": "python",
   "pygments_lexer": "ipython3",
   "version": "3.9.13"
  },
  "toc": {
   "base_numbering": 1,
   "nav_menu": {},
   "number_sections": true,
   "sideBar": true,
   "skip_h1_title": false,
   "title_cell": "Table of Contents",
   "title_sidebar": "Contents",
   "toc_cell": false,
   "toc_position": {},
   "toc_section_display": true,
   "toc_window_display": false
  }
 },
 "nbformat": 4,
 "nbformat_minor": 5
}
